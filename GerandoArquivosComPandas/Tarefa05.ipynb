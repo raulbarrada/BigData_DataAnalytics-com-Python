{
 "cells": [
  {
   "cell_type": "code",
   "execution_count": 2,
   "metadata": {},
   "outputs": [
    {
     "data": {
      "text/html": [
       "<div>\n",
       "<style scoped>\n",
       "    .dataframe tbody tr th:only-of-type {\n",
       "        vertical-align: middle;\n",
       "    }\n",
       "\n",
       "    .dataframe tbody tr th {\n",
       "        vertical-align: top;\n",
       "    }\n",
       "\n",
       "    .dataframe thead th {\n",
       "        text-align: right;\n",
       "    }\n",
       "</style>\n",
       "<table border=\"1\" class=\"dataframe\">\n",
       "  <thead>\n",
       "    <tr style=\"text-align: right;\">\n",
       "      <th></th>\n",
       "      <th>Coluna 1</th>\n",
       "      <th>Coluna 2</th>\n",
       "      <th>Coluna 3</th>\n",
       "      <th>Coluna 4</th>\n",
       "      <th>Coluna 5</th>\n",
       "      <th>Coluna 6</th>\n",
       "      <th>Coluna 7</th>\n",
       "      <th>Coluna 8</th>\n",
       "      <th>Coluna 8.1</th>\n",
       "      <th>Coluna 10</th>\n",
       "    </tr>\n",
       "  </thead>\n",
       "  <tbody>\n",
       "    <tr>\n",
       "      <th>0</th>\n",
       "      <td>Centro</td>\n",
       "      <td>Simone</td>\n",
       "      <td>2005-10-08</td>\n",
       "      <td>Apartamento</td>\n",
       "      <td>102.5</td>\n",
       "      <td>2</td>\n",
       "      <td>2</td>\n",
       "      <td>Sim</td>\n",
       "      <td>235500</td>\n",
       "      <td>3532.5</td>\n",
       "    </tr>\n",
       "  </tbody>\n",
       "</table>\n",
       "</div>"
      ],
      "text/plain": [
       "  Coluna 1 Coluna 2   Coluna 3     Coluna 4  Coluna 5  Coluna 6  Coluna 7  \\\n",
       "0   Centro   Simone 2005-10-08  Apartamento     102.5         2         2   \n",
       "\n",
       "  Coluna 8  Coluna 8.1  Coluna 10  \n",
       "0      Sim      235500     3532.5  "
      ]
     },
     "execution_count": 2,
     "metadata": {},
     "output_type": "execute_result"
    }
   ],
   "source": [
    "import pandas as pd\n",
    "\n",
    "Path = \"../MaterialEstudos/BaseDeDados/\"\n",
    "File = \"Imobiliária.xlsx\"\n",
    "\n",
    "TabelaDados = pd.read_excel(Path+File, sheet_name=\"Base\")\n",
    "\n",
    "TabelaDados.head(1)"
   ]
  },
  {
   "cell_type": "code",
   "execution_count": 79,
   "metadata": {},
   "outputs": [
    {
     "data": {
      "text/html": [
       "<div>\n",
       "<style scoped>\n",
       "    .dataframe tbody tr th:only-of-type {\n",
       "        vertical-align: middle;\n",
       "    }\n",
       "\n",
       "    .dataframe tbody tr th {\n",
       "        vertical-align: top;\n",
       "    }\n",
       "\n",
       "    .dataframe thead th {\n",
       "        text-align: right;\n",
       "    }\n",
       "</style>\n",
       "<table border=\"1\" class=\"dataframe\">\n",
       "  <thead>\n",
       "    <tr style=\"text-align: right;\">\n",
       "      <th></th>\n",
       "      <th>Filial</th>\n",
       "      <th>Vendedor</th>\n",
       "      <th>Data</th>\n",
       "      <th>Tipo</th>\n",
       "      <th>Área (m²)</th>\n",
       "      <th>Dorms</th>\n",
       "      <th>Garag</th>\n",
       "      <th>Piscina</th>\n",
       "      <th>Preço</th>\n",
       "      <th>Comissão</th>\n",
       "    </tr>\n",
       "  </thead>\n",
       "  <tbody>\n",
       "    <tr>\n",
       "      <th>0</th>\n",
       "      <td>Centro</td>\n",
       "      <td>Simone</td>\n",
       "      <td>2005-10-08</td>\n",
       "      <td>Apartamento</td>\n",
       "      <td>102.5</td>\n",
       "      <td>2</td>\n",
       "      <td>2</td>\n",
       "      <td>Sim</td>\n",
       "      <td>235500</td>\n",
       "      <td>3532.5</td>\n",
       "    </tr>\n",
       "  </tbody>\n",
       "</table>\n",
       "</div>"
      ],
      "text/plain": [
       "   Filial Vendedor       Data         Tipo  Área (m²)  Dorms  Garag Piscina  \\\n",
       "0  Centro   Simone 2005-10-08  Apartamento      102.5      2      2     Sim   \n",
       "\n",
       "    Preço  Comissão  \n",
       "0  235500    3532.5  "
      ]
     },
     "execution_count": 79,
     "metadata": {},
     "output_type": "execute_result"
    }
   ],
   "source": [
    "TabelaDados.columns = [\n",
    "    \"Filial\",\n",
    "    \"Vendedor\",\n",
    "    \"Data\",\n",
    "    \"Tipo\",\n",
    "    \"Área (m²)\",\n",
    "    \"Dorms\",\n",
    "    \"Garag\",\n",
    "    \"Piscina\",\n",
    "    \"Preço\",\n",
    "    \"Comissão\"\n",
    "]\n",
    "\n",
    "TabelaDados.head(1)"
   ]
  },
  {
   "cell_type": "code",
   "execution_count": 9,
   "metadata": {},
   "outputs": [
    {
     "data": {
      "text/plain": [
       "pandas.core.frame.DataFrame"
      ]
     },
     "execution_count": 9,
     "metadata": {},
     "output_type": "execute_result"
    }
   ],
   "source": [
    "type(TabelaDados)"
   ]
  },
  {
   "cell_type": "code",
   "execution_count": 14,
   "metadata": {},
   "outputs": [
    {
     "name": "stdout",
     "output_type": "stream",
     "text": [
      "<class 'pandas.core.frame.DataFrame'>\n",
      "RangeIndex: 1117 entries, 0 to 1116\n",
      "Data columns (total 10 columns):\n",
      " #   Column     Non-Null Count  Dtype         \n",
      "---  ------     --------------  -----         \n",
      " 0   Filial     1117 non-null   object        \n",
      " 1   Vendendor  1117 non-null   object        \n",
      " 2   Data       1117 non-null   datetime64[ns]\n",
      " 3   Tipo       1117 non-null   object        \n",
      " 4   Área (m²)  1117 non-null   float64       \n",
      " 5   Dorms      1117 non-null   int64         \n",
      " 6   Garag      1117 non-null   int64         \n",
      " 7   Piscina    1117 non-null   object        \n",
      " 8   Preço      1117 non-null   int64         \n",
      " 9   Comissão   1117 non-null   float64       \n",
      "dtypes: datetime64[ns](1), float64(2), int64(3), object(4)\n",
      "memory usage: 87.4+ KB\n"
     ]
    }
   ],
   "source": [
    "TabelaDados.info()"
   ]
  },
  {
   "cell_type": "code",
   "execution_count": null,
   "metadata": {},
   "outputs": [],
   "source": [
    "TabelaDados.describe"
   ]
  },
  {
   "cell_type": "code",
   "execution_count": null,
   "metadata": {},
   "outputs": [],
   "source": [
    "print(TabelaDados[\"Preço\"].sum())   #Retorna soma da coluna\n",
    "print(TabelaDados[\"Preço\"].mean())  #Retorna média da coluna\n",
    "print(TabelaDados[\"Preço\"].max())   #Retorna maior valor da coluna\n",
    "print(TabelaDados[\"Preço\"].min())   #Retorna menor valor da coluna\n",
    "print(TabelaDados[\"Preço\"].count()) #Retorna quantidade de valores da coluna\n"
   ]
  },
  {
   "cell_type": "code",
   "execution_count": null,
   "metadata": {},
   "outputs": [],
   "source": [
    "#Criando filtro no dataframe que retorna todas as linhas que tem a filial igual a centro\n",
    "TabelaDados[TabelaDados[\"Filial\"]==\"Centro\"]"
   ]
  },
  {
   "cell_type": "code",
   "execution_count": 24,
   "metadata": {},
   "outputs": [],
   "source": [
    "\n",
    "#Criar relatório por região centro\n",
    "\n",
    "ExportFile = TabelaDados[TabelaDados[\"Filial\"]==\"Centro\"]\n",
    "\n",
    "PathExport = \"./\"\n",
    "NameFileCentro = \"ReportFilialCentro.xlsx\"\n",
    "\n",
    "#Criando arquivo excel com nome da planilha FilialCentro sem a coluna de índices\n",
    "ExportFile.to_excel(PathExport+NameFile, sheet_name=\"FilialCentro\", index=False) \n"
   ]
  },
  {
   "cell_type": "code",
   "execution_count": 25,
   "metadata": {},
   "outputs": [],
   "source": [
    "ExportFile = TabelaDados[TabelaDados[\"Filial\"]==\"Noroeste\"]\n",
    "NameFileNoroeste = \"ReportFilialNoroeste.xlsx\"\n",
    "ExportFile.to_excel(PathExport+NameFileNoroeste, sheet_name=\"FilialNoroeste\", index=False)"
   ]
  },
  {
   "cell_type": "code",
   "execution_count": 26,
   "metadata": {},
   "outputs": [],
   "source": [
    "ExportFile = TabelaDados[TabelaDados[\"Filial\"]==\"Norte\"]\n",
    "NameFileNorte = \"ReportFilialNorte.xlsx\"\n",
    "ExportFile.to_excel(PathExport+NameFileNorte, sheet_name=\"FilialNorte\", index=False)"
   ]
  },
  {
   "cell_type": "code",
   "execution_count": 27,
   "metadata": {},
   "outputs": [],
   "source": [
    "ExporteFile = TabelaDados[TabelaDados[\"Filial\"]==\"Sudeste\"]\n",
    "NameFileSudeste = \"ReportFilialSudeste.xlsx\"\n",
    "ExportFile.to_excel(PathExport+NameFileSudeste, sheet_name=\"FilialSudeste\", index=False)"
   ]
  },
  {
   "cell_type": "code",
   "execution_count": 28,
   "metadata": {},
   "outputs": [],
   "source": [
    "ExportFile = TabelaDados[TabelaDados[\"Filial\"]==\"Oeste\"]\n",
    "NameFileOeste = \"ReportFilialOeste.xlsx\"\n",
    "ExportFile.to_excel(PathExport+NameFileOeste, sheet_name=\"FilialOeste\", index=False)"
   ]
  },
  {
   "cell_type": "code",
   "execution_count": 33,
   "metadata": {},
   "outputs": [],
   "source": [
    "ExportFile = TabelaDados[TabelaDados[\"Filial\"]==\"Leste\"]\n",
    "NameFileLeste = \"ReportFilialLeste.xlsx\"\n",
    "ExportFile.to_excel(PathExport+NameFileLeste, sheet_name=\"FilialLeste\", index=False)"
   ]
  },
  {
   "cell_type": "code",
   "execution_count": 34,
   "metadata": {},
   "outputs": [],
   "source": [
    "ExportFile = TabelaDados[TabelaDados[\"Filial\"]==\"Sudoeste\"]\n",
    "NameFileSudoeste = \"ReportFilialSudoeste.xlsx\"\n",
    "ExportFile.to_excel(PathExport+NameFileSudoeste, sheet_name=\"ReportFilialSuduoeste.xlsx\", index=False)"
   ]
  },
  {
   "cell_type": "code",
   "execution_count": 36,
   "metadata": {},
   "outputs": [],
   "source": [
    "ExportFile = TabelaDados[TabelaDados[\"Filial\"]==\"Sul\"]\n",
    "NameFileSul = \"ReportFilialSul.xlsx\"\n",
    "ExportFile.to_excel(PathExport+NameFileSul, sheet_name=\"ReportFilialSul.xlsx\", index=False)"
   ]
  },
  {
   "cell_type": "code",
   "execution_count": 37,
   "metadata": {},
   "outputs": [],
   "source": [
    "ExportFile = TabelaDados[TabelaDados[\"Filial\"]==\"Nordeste\"]\n",
    "NameFileNordeste = \"ReportFilialNordeste.xlsx\"\n",
    "ExportFile.to_excel(PathExport+NameFileNordeste, sheet_name=\"ReportFilialNordeste.xlsx\", index=False)"
   ]
  },
  {
   "cell_type": "code",
   "execution_count": 50,
   "metadata": {},
   "outputs": [],
   "source": [
    "#Trabalhando com operqdores lógicos para realizar filtros\n",
    "ExportFile = TabelaDados[\n",
    "    (TabelaDados[\"Filial\"]==\"Norte\") & \n",
    "    (TabelaDados[\"Data\"] >= \"2010-01-01\") & \n",
    "    (TabelaDados[\"Data\"] <= \"2010-12-31\")\n",
    "    ]\n",
    "NameFileReportL = \"ReportFilialNorteVenda2010.xlsx\"\n",
    "ExportFile.to_excel(PathExport+NameFileReportL, sheet_name=\"RelatórioVendas2010-FilialNorte\", index=False)"
   ]
  },
  {
   "cell_type": "code",
   "execution_count": 57,
   "metadata": {},
   "outputs": [],
   "source": [
    "ExportFile = TabelaDados[\n",
    "    (TabelaDados[\"Filial\"]==\"Sudeste\") & \n",
    "    (TabelaDados[\"Data\"] >= \"2010-01-01\") & \n",
    "    (TabelaDados[\"Data\"] <= \"2010-12-31\") &\n",
    "    (TabelaDados[\"Tipo\"] == \"Casa\") &\n",
    "    (TabelaDados[\"Garag\"] == 0)\n",
    "    ]\n",
    "NameFileReportL = \"ReportSudesteVenda2010CG.xlsx\"\n",
    "ExportFile.to_excel(PathExport+NameFileReportL, sheet_name=\"RelatórioVendas2010-Sudeste\", index=False)"
   ]
  },
  {
   "cell_type": "code",
   "execution_count": null,
   "metadata": {},
   "outputs": [],
   "source": [
    "TabelaDados[TabelaDados[\"Comissão\"] == TabelaDados[\"Comissão\"].max()]"
   ]
  },
  {
   "cell_type": "code",
   "execution_count": 85,
   "metadata": {},
   "outputs": [],
   "source": [
    "ExportFile = TabelaDados[\n",
    "    (TabelaDados[\"Vendedor\"] == \"Ricardo\") &\n",
    "    (TabelaDados[\"Data\"] < \"2011-01-01\") &\n",
    "    (TabelaDados[\"Tipo\"] == \"Casa\") &\n",
    "    ((TabelaDados[\"Dorms\"] == 2) | (TabelaDados[\"Dorms\"] == 3))\n",
    "]\n",
    "NameFileReport2011 = \"ReportRicardoVenda2011.xlsx\"\n",
    "ExportFile.to_excel(PathExport+NameFileReport2011, sheet_name=\"RelatórioVendasRicardo2011\", index=False)"
   ]
  },
  {
   "cell_type": "code",
   "execution_count": 66,
   "metadata": {},
   "outputs": [],
   "source": [
    "Data = TabelaDados[\n",
    "    (TabelaDados[\"Vendedor\"] == \"Ricardo\")     \n",
    "]"
   ]
  },
  {
   "cell_type": "code",
   "execution_count": 75,
   "metadata": {},
   "outputs": [
    {
     "data": {
      "text/html": [
       "<div>\n",
       "<style scoped>\n",
       "    .dataframe tbody tr th:only-of-type {\n",
       "        vertical-align: middle;\n",
       "    }\n",
       "\n",
       "    .dataframe tbody tr th {\n",
       "        vertical-align: top;\n",
       "    }\n",
       "\n",
       "    .dataframe thead th {\n",
       "        text-align: right;\n",
       "    }\n",
       "</style>\n",
       "<table border=\"1\" class=\"dataframe\">\n",
       "  <thead>\n",
       "    <tr style=\"text-align: right;\">\n",
       "      <th></th>\n",
       "      <th>Comissão</th>\n",
       "    </tr>\n",
       "    <tr>\n",
       "      <th>Vendendor</th>\n",
       "      <th></th>\n",
       "    </tr>\n",
       "  </thead>\n",
       "  <tbody>\n",
       "    <tr>\n",
       "      <th>Ricardo</th>\n",
       "      <td>739848.0</td>\n",
       "    </tr>\n",
       "  </tbody>\n",
       "</table>\n",
       "</div>"
      ],
      "text/plain": [
       "           Comissão\n",
       "Vendendor          \n",
       "Ricardo    739848.0"
      ]
     },
     "execution_count": 75,
     "metadata": {},
     "output_type": "execute_result"
    }
   ],
   "source": [
    "Data[['Vendedor','Comissão']].groupby(['Vendedor']).sum()"
   ]
  }
 ],
 "metadata": {
  "kernelspec": {
   "display_name": "Python 3",
   "language": "python",
   "name": "python3"
  },
  "language_info": {
   "codemirror_mode": {
    "name": "ipython",
    "version": 3
   },
   "file_extension": ".py",
   "mimetype": "text/x-python",
   "name": "python",
   "nbconvert_exporter": "python",
   "pygments_lexer": "ipython3",
   "version": "3.11.0"
  }
 },
 "nbformat": 4,
 "nbformat_minor": 2
}
