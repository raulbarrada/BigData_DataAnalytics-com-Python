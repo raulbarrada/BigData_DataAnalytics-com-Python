{
 "cells": [
  {
   "cell_type": "markdown",
   "metadata": {},
   "source": [
    "#### Tarefa 17 - João Papo-de-Pescador, homem de bem, comprou um microcomputador para controlar o rendimento diário de seu trabalho. Toda vez que ele traz um peso de peixes maior que o estabelecido pelo regulamento de pesca do estado de São Paulo (50 quilos) deve pagar uma multa de R$ 4,00 por quilo excedente. João precisa que você faça um programa que leia a variável peso (peso de peixes) e calcule o excesso.\n"
   ]
  },
  {
   "cell_type": "code",
   "execution_count": 3,
   "metadata": {},
   "outputs": [
    {
     "name": "stdout",
     "output_type": "stream",
     "text": [
      "################ SISTEMA DE REGULAMENTO DE PESCA DO ESTADO DE SÃO PAULO ################\n"
     ]
    },
    {
     "name": "stdout",
     "output_type": "stream",
     "text": [
      "################ Digite um número qualquer: 55\n",
      "################ Você ultrapassou o peso limite de pescado.\n",
      "################ Será aplicado uma multa de 4 por kilo excedido.\n",
      "################ Você excedeu 5 kilo(s).\n",
      "################ O valor da multa é: 20 reais.\n"
     ]
    }
   ],
   "source": [
    "PesoLimite      = 50\n",
    "MultaPorKilo    = 4\n",
    "\n",
    "print(f\"################ SISTEMA DE REGULAMENTO DE PESCA DO ESTADO DE SÃO PAULO ################\")\n",
    "PesoPescado = int(input(\"Digite a quatidade de KILOS do pescado: \"))\n",
    "print(f\"################ A quatidade de KILOS do pescado inserida foi: {PesoPescado}\")\n",
    "\n",
    "if (PesoPescado > PesoLimite):\n",
    "    KilosEmExcesso = PesoPescado - PesoLimite\n",
    "    MultaCalculada = KilosEmExcesso * MultaPorKilo\n",
    "    \n",
    "    print(f\"################ Você ultrapassou o peso limite de pescado.\")\n",
    "    print(f\"################ Será aplicado uma multa de {MultaPorKilo} por kilo excedido.\")\n",
    "    print(f\"################ Você excedeu {KilosEmExcesso} kilo(s).\")\n",
    "    print(f\"################ O valor da multa é: {MultaCalculada} reais.\")\n",
    "\n",
    "else:\n",
    "    print(f\"################ Parabéns, você não excedeu o limite de pescado!\")"
   ]
  }
 ],
 "metadata": {
  "kernelspec": {
   "display_name": "Python 3",
   "language": "python",
   "name": "python3"
  },
  "language_info": {
   "codemirror_mode": {
    "name": "ipython",
    "version": 3
   },
   "file_extension": ".py",
   "mimetype": "text/x-python",
   "name": "python",
   "nbconvert_exporter": "python",
   "pygments_lexer": "ipython3",
   "version": "3.11.0"
  },
  "orig_nbformat": 4
 },
 "nbformat": 4,
 "nbformat_minor": 2
}
