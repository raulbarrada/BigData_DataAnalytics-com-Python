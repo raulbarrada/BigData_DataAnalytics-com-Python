{
 "cells": [
  {
   "cell_type": "markdown",
   "metadata": {},
   "source": [
    "#### Tarefa 05 – Crie um programa para receber dois valores e em seguida, exiba o resto da divisão entre eles."
   ]
  },
  {
   "cell_type": "code",
   "execution_count": 1,
   "metadata": {},
   "outputs": [
    {
     "name": "stdout",
     "output_type": "stream",
     "text": [
      "O valor da subtração é:  2.0\n"
     ]
    }
   ],
   "source": [
    "Numero01 = 20\n",
    "Numero02 = 10\n",
    "\n",
    "Quociente = Numero01 % Numero02\n",
    "\n",
    "print(\"O valor do resto da divisão é: \",Quociente)"
   ]
  }
 ],
 "metadata": {
  "kernelspec": {
   "display_name": "Python 3",
   "language": "python",
   "name": "python3"
  },
  "language_info": {
   "codemirror_mode": {
    "name": "ipython",
    "version": 3
   },
   "file_extension": ".py",
   "mimetype": "text/x-python",
   "name": "python",
   "nbconvert_exporter": "python",
   "pygments_lexer": "ipython3",
   "version": "3.11.0"
  },
  "orig_nbformat": 4
 },
 "nbformat": 4,
 "nbformat_minor": 2
}
