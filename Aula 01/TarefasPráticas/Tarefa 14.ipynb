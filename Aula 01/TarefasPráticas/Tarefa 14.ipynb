{
 "cells": [
  {
   "cell_type": "markdown",
   "metadata": {},
   "source": [
    "#### Tarefa 14 - Faça um Programa que peça a temperatura em graus Fahrenheit, transforme e mostre a temperatura em graus Celsius."
   ]
  },
  {
   "cell_type": "code",
   "execution_count": 3,
   "metadata": {},
   "outputs": [
    {
     "name": "stdout",
     "output_type": "stream",
     "text": [
      "A temperatura 1.0°F equivale a temperatura de -17.22222222222222°C.\n"
     ]
    }
   ],
   "source": [
    "TemperaturaFahrenheit = float(input(\"Digite o valor da temperatura em Fahrenheit: \"))\n",
    "\n",
    "TemperaturaCelsius = (TemperaturaFahrenheit - 32)/1.8\n",
    "\n",
    "print(f\"A temperatura {TemperaturaFahrenheit}°F equivale a temperatura de {TemperaturaCelsius}°C.\")\n",
    "\n"
   ]
  }
 ],
 "metadata": {
  "kernelspec": {
   "display_name": "Python 3",
   "language": "python",
   "name": "python3"
  },
  "language_info": {
   "codemirror_mode": {
    "name": "ipython",
    "version": 3
   },
   "file_extension": ".py",
   "mimetype": "text/x-python",
   "name": "python",
   "nbconvert_exporter": "python",
   "pygments_lexer": "ipython3",
   "version": "3.11.0"
  },
  "orig_nbformat": 4
 },
 "nbformat": 4,
 "nbformat_minor": 2
}
