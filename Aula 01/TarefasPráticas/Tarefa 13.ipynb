{
 "cells": [
  {
   "cell_type": "markdown",
   "metadata": {},
   "source": [
    "#### Tarefa 13 - Faça um Programa que pergunte quanto você ganha por hora e o número de horas trabalhadas no mês. Calcule e mostre o total do seu salário no referido mês."
   ]
  },
  {
   "cell_type": "code",
   "execution_count": 3,
   "metadata": {},
   "outputs": [
    {
     "name": "stdout",
     "output_type": "stream",
     "text": [
      "Seu salaário ao final do mês será de: R$ 200.0.\n"
     ]
    }
   ],
   "source": [
    "ValorHoraTrabalhada = float(input(\"Digite o valor da hora trabalhada: \"))\n",
    "QuantidadeHoraTrabalhada = float(input(\"Digite a quantidade da horas trabalhadas no mês: \"))\n",
    "\n",
    "SalarioBase = ValorHoraTrabalhada * QuantidadeHoraTrabalhada\n",
    "\n",
    "print(f\"Seu salaário ao final do mês será de: R$ {SalarioBase}.\")\n",
    "\n"
   ]
  }
 ],
 "metadata": {
  "kernelspec": {
   "display_name": "Python 3",
   "language": "python",
   "name": "python3"
  },
  "language_info": {
   "codemirror_mode": {
    "name": "ipython",
    "version": 3
   },
   "file_extension": ".py",
   "mimetype": "text/x-python",
   "name": "python",
   "nbconvert_exporter": "python",
   "pygments_lexer": "ipython3",
   "version": "3.11.0"
  },
  "orig_nbformat": 4
 },
 "nbformat": 4,
 "nbformat_minor": 2
}
