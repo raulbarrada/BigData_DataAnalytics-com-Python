{
 "cells": [
  {
   "cell_type": "markdown",
   "metadata": {},
   "source": [
    "#### Tarefa 12 - Faça um Programa que calcule a área de um quadrado, em seguida mostre o dobro desta área para o usuário."
   ]
  },
  {
   "cell_type": "code",
   "execution_count": 4,
   "metadata": {},
   "outputs": [
    {
     "name": "stdout",
     "output_type": "stream",
     "text": [
      "O valor da área do quadrado é: 4.0 m².\n",
      "O dobro da área do quadrado é: 8.0 m².\n"
     ]
    }
   ],
   "source": [
    "Base = float(input(\"Digite o valor que corresponde ao lado do quadrado: \"))\n",
    "\n",
    "AreaBase = Base ** 2\n",
    "AreaBaseDobro = AreaBase * 2\n",
    "\n",
    "print(f\"O valor da área do quadrado é: {AreaBase} m².\")\n",
    "print(f\"O dobro da área do quadrado é: {AreaBaseDobro} m².\")\n",
    "\n"
   ]
  }
 ],
 "metadata": {
  "kernelspec": {
   "display_name": "Python 3",
   "language": "python",
   "name": "python3"
  },
  "language_info": {
   "codemirror_mode": {
    "name": "ipython",
    "version": 3
   },
   "file_extension": ".py",
   "mimetype": "text/x-python",
   "name": "python",
   "nbconvert_exporter": "python",
   "pygments_lexer": "ipython3",
   "version": "3.11.0"
  },
  "orig_nbformat": 4
 },
 "nbformat": 4,
 "nbformat_minor": 2
}
