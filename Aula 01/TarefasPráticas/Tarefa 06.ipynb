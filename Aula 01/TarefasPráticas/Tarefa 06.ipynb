{
 "cells": [
  {
   "cell_type": "markdown",
   "metadata": {},
   "source": [
    "#### Tarefa 06 - Crie um programa para receber um número e em seguida, exiba o quadrado dele."
   ]
  },
  {
   "cell_type": "code",
   "execution_count": 2,
   "metadata": {},
   "outputs": [
    {
     "name": "stdout",
     "output_type": "stream",
     "text": [
      "O valor do resto da divisão é:  4\n"
     ]
    }
   ],
   "source": [
    "Numero01 = 2\n",
    "Numero02 = 2\n",
    "\n",
    "NumeroAoQuadrado = Numero01 ** Numero02\n",
    "\n",
    "print(\"O valor do resto da divisão é: \",NumeroAoQuadrado)"
   ]
  }
 ],
 "metadata": {
  "kernelspec": {
   "display_name": "Python 3",
   "language": "python",
   "name": "python3"
  },
  "language_info": {
   "codemirror_mode": {
    "name": "ipython",
    "version": 3
   },
   "file_extension": ".py",
   "mimetype": "text/x-python",
   "name": "python",
   "nbconvert_exporter": "python",
   "pygments_lexer": "ipython3",
   "version": "3.11.0"
  },
  "orig_nbformat": 4
 },
 "nbformat": 4,
 "nbformat_minor": 2
}
