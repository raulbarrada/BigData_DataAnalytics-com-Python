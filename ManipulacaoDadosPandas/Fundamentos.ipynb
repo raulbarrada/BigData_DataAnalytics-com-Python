{
 "cells": [
  {
   "cell_type": "markdown",
   "metadata": {},
   "source": [
    "#### Instalando Lib Pandas"
   ]
  },
  {
   "cell_type": "code",
   "execution_count": null,
   "metadata": {},
   "outputs": [],
   "source": [
    "%pip install pandas"
   ]
  },
  {
   "cell_type": "markdown",
   "metadata": {},
   "source": [
    "#### Importando a Lib no projeto"
   ]
  },
  {
   "cell_type": "code",
   "execution_count": 5,
   "metadata": {},
   "outputs": [
    {
     "name": "stdout",
     "output_type": "stream",
     "text": [
      "2.1.0\n"
     ]
    }
   ],
   "source": [
    "import pandas as pd\n",
    "\n",
    "print(pd.__version__)"
   ]
  },
  {
   "cell_type": "markdown",
   "metadata": {},
   "source": [
    "#### Estrutura de dados\n",
    "\n",
    "Series = É um tipo de array (lista) unidimensional\n",
    "\n",
    "DataFrame = É um tipo de tabela composta por linhas e colunas"
   ]
  },
  {
   "cell_type": "markdown",
   "metadata": {},
   "source": [
    "##### Utilizando função Series"
   ]
  },
  {
   "cell_type": "code",
   "execution_count": null,
   "metadata": {},
   "outputs": [],
   "source": [
    "Pessoas = pd.Series([\"Raul\", \"Aylla\", \"Jéssica\", \"Barrada\", \"Tânia\"])\n",
    "IdadesPessoas = pd.Series([31, 3, 30, 30, 58])\n",
    "\n",
    "print(Pessoas)\n",
    "print(type(Pessoas))\n",
    "\n",
    "print(IdadesPessoas)\n",
    "print(type(IdadesPessoas))\n"
   ]
  },
  {
   "cell_type": "markdown",
   "metadata": {},
   "source": [
    "##### Acessando valores pelo índice do array"
   ]
  },
  {
   "cell_type": "code",
   "execution_count": null,
   "metadata": {},
   "outputs": [],
   "source": [
    "print(Pessoas[1]) #retorna o segundo elemento da lista\n",
    "print(Pessoas[2]) #retorna o terceiro elemento da lista"
   ]
  },
  {
   "cell_type": "markdown",
   "metadata": {},
   "source": [
    "##### Renomeando os índices (Chaves de acesso) E retornando somente índices e valores"
   ]
  },
  {
   "cell_type": "code",
   "execution_count": null,
   "metadata": {},
   "outputs": [],
   "source": [
    "MyDatas = [\"Raul\", 31, \"raulbarrada@gmail.com\"] #Populando array com dados \n",
    "MySeries = pd.Series(MyDatas, index=[\"nome\", \"idade\", \"email\"]) # renomenado indices da lista MyDatas\n",
    "\n",
    "\n",
    "print(MySeries.index) # retorna somente os indices da lista\n",
    "print(MySeries.values) # retorna somente os valores da lista\n",
    "print(MySeries) # Retorna o indice e os valores da lista"
   ]
  },
  {
   "cell_type": "markdown",
   "metadata": {},
   "source": [
    "#### Utilizando o comando Series com dicionário\n",
    "- Obs: Ao criar um dicionário e a partir dele usar a função Series, ele já considera as Chaves do Diconários sendo os índices"
   ]
  },
  {
   "cell_type": "code",
   "execution_count": null,
   "metadata": {},
   "outputs": [],
   "source": [
    "CaloriasPerdidas = {\n",
    "    'day1' : 358,\n",
    "    \"day2\" : 480,\n",
    "    \"day3\" : 248,\n",
    "}\n",
    "MinhasCaloriasPerdidas = pd.Series(CaloriasPerdidas)\n",
    "\n",
    "print(MinhasCaloriasPerdidas)"
   ]
  },
  {
   "cell_type": "markdown",
   "metadata": {},
   "source": [
    "#### Utilizando DataDrame"
   ]
  },
  {
   "cell_type": "code",
   "execution_count": null,
   "metadata": {},
   "outputs": [],
   "source": [
    "import pandas as pd\n",
    "\n",
    "#Criando o dicionário com dados de camisas a venda\n",
    "ListaDeCamisas = {\n",
    "    \"Tamanho\" : [\"P\", \"M\", \"G\", \"XG\"],\n",
    "    \"Valores\" : [30, 45.90, 57.65, 70]\n",
    "}\n",
    "\n",
    "#Criando DataFrame\n",
    "df = pd.DataFrame(ListaDeCamisas)\n",
    "\n",
    "print(df)"
   ]
  }
 ],
 "metadata": {
  "kernelspec": {
   "display_name": "Python 3",
   "language": "python",
   "name": "python3"
  },
  "language_info": {
   "codemirror_mode": {
    "name": "ipython",
    "version": 3
   },
   "file_extension": ".py",
   "mimetype": "text/x-python",
   "name": "python",
   "nbconvert_exporter": "python",
   "pygments_lexer": "ipython3",
   "version": "3.11.0"
  }
 },
 "nbformat": 4,
 "nbformat_minor": 2
}
