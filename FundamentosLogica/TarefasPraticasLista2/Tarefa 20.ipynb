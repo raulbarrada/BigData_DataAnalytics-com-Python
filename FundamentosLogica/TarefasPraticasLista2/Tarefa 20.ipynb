{
 "cells": [
  {
   "cell_type": "markdown",
   "metadata": {},
   "source": [
    "#### Tarefa 20 - Faça um Programa que pergunte em que turno você estuda. Peça para digitar M-matutino ou V-Vespertino ou N- Noturno. Imprima a mensagem \"Bom Dia!\", \"Boa Tarde!\" ou \"Boa Noite!\" ou \"Valor Inválido!\", conforme o caso."
   ]
  },
  {
   "cell_type": "code",
   "execution_count": 4,
   "metadata": {},
   "outputs": [
    {
     "name": "stdout",
     "output_type": "stream",
     "text": [
      "Valor inválido!!\n"
     ]
    }
   ],
   "source": [
    "Turno = input(\"Digite: M-matutino || V-Vespertino || N-Noturno: \")\n",
    "\n",
    "if Turno == \"M\" or Turno == \"m\":\n",
    "    Mensagem = \"Bom Dia!\"\n",
    "elif Turno == \"T\" or Turno == \"t\":\n",
    "    Mensagem = \"Boa Tarde!\"\n",
    "elif Turno == \"N\" or Turno == \"n\":\n",
    "    Mensagem = \"Boa Noite!\"\n",
    "else:\n",
    "    Mensagem = \"Valor inválido!!\"\n",
    "\n",
    "print(f\"{Mensagem}\")\n"
   ]
  }
 ],
 "metadata": {
  "kernelspec": {
   "display_name": "Python 3",
   "language": "python",
   "name": "python3"
  },
  "language_info": {
   "codemirror_mode": {
    "name": "ipython",
    "version": 3
   },
   "file_extension": ".py",
   "mimetype": "text/x-python",
   "name": "python",
   "nbconvert_exporter": "python",
   "pygments_lexer": "ipython3",
   "version": "3.11.0"
  }
 },
 "nbformat": 4,
 "nbformat_minor": 2
}
