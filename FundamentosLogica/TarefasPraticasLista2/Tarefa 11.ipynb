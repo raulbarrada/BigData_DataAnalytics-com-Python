{
 "cells": [
  {
   "cell_type": "markdown",
   "metadata": {},
   "source": [
    "#### Tarefa 11 - Faça um Programa que peça dois números e imprima o maior deles."
   ]
  },
  {
   "cell_type": "code",
   "execution_count": 7,
   "metadata": {},
   "outputs": [
    {
     "name": "stdout",
     "output_type": "stream",
     "text": [
      "É\n",
      "São iguais.\n"
     ]
    }
   ],
   "source": [
    "Numero01 = int(input(\"Digite um valor numérico: \"))\n",
    "Numero02 = int(input(\"Digite outro valor numérico: \"))\n",
    "\n",
    "if Numero01 > Numero02:\n",
    "    print(f\"O primeiro valor é maior que o segundo: {Numero01} é maior que {Numero02}\")\n",
    "elif Numero01 > Numero02:\n",
    "    print(f\"O segundo valor é maior que o primeiro: {Numero02} é maior que {Numero01}\")\n",
    "else:\n",
    "    print(\"São iguais.\")"
   ]
  }
 ],
 "metadata": {
  "kernelspec": {
   "display_name": "Python 3",
   "language": "python",
   "name": "python3"
  },
  "language_info": {
   "codemirror_mode": {
    "name": "ipython",
    "version": 3
   },
   "file_extension": ".py",
   "mimetype": "text/x-python",
   "name": "python",
   "nbconvert_exporter": "python",
   "pygments_lexer": "ipython3",
   "version": "3.11.0"
  }
 },
 "nbformat": 4,
 "nbformat_minor": 2
}
