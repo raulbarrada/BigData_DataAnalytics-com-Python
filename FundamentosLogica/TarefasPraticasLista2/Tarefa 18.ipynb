{
 "cells": [
  {
   "cell_type": "markdown",
   "metadata": {},
   "source": [
    "#### Tarefa 18 - Faça um programa que pergunte o preço de três produtos e informe qual produto você deve comprar, sabendo que a decisão é sempre pelo mais barato."
   ]
  },
  {
   "cell_type": "code",
   "execution_count": 1,
   "metadata": {},
   "outputs": [
    {
     "name": "stdout",
     "output_type": "stream",
     "text": [
      "O primeiro valor de R$1.0, é o produto com mais custo-benefício.\n"
     ]
    }
   ],
   "source": [
    "Valor01 = float(input(\"Digite primeiro valor: \"))\n",
    "Valor02 = float(input(\"Digite segundo valor: \"))\n",
    "Valor03 = float(input(\"Digite terceiro valor: \"))\n",
    "\n",
    "if Valor01 < Valor02 and Valor01 < Valor03:\n",
    "    print(f\"O primeiro valor de R${Valor01}, é o produto com mais custo-benefício.\")\n",
    "elif Valor02 < Valor01 and Valor02 < Valor03:\n",
    "    print(f\"O segundo valor de R${Valor02}, é o produto com mais custo-benefício.\")\n",
    "else:\n",
    "    print(f\"O terceiro valor de R${Valor03}, é o produto com mais custo-benefício.\")\n"
   ]
  }
 ],
 "metadata": {
  "kernelspec": {
   "display_name": "Python 3",
   "language": "python",
   "name": "python3"
  },
  "language_info": {
   "codemirror_mode": {
    "name": "ipython",
    "version": 3
   },
   "file_extension": ".py",
   "mimetype": "text/x-python",
   "name": "python",
   "nbconvert_exporter": "python",
   "pygments_lexer": "ipython3",
   "version": "3.11.0"
  }
 },
 "nbformat": 4,
 "nbformat_minor": 2
}
