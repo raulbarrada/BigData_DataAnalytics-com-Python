{
 "cells": [
  {
   "cell_type": "markdown",
   "metadata": {},
   "source": [
    "#### Tarefa 19 - Faça um Programa que leia três números e mostre-os em ordem decrescente."
   ]
  },
  {
   "cell_type": "code",
   "execution_count": 4,
   "metadata": {},
   "outputs": [
    {
     "name": "stdout",
     "output_type": "stream",
     "text": [
      "Os valores em ordem DECRESCENTE são: 3.0 1.0 2.0\n"
     ]
    }
   ],
   "source": [
    "Valor01 = float(input(\"Digite primeiro valor: \"))\n",
    "Valor02 = float(input(\"Digite segundo valor: \"))\n",
    "Valor03 = float(input(\"Digite terceiro valor: \"))\n",
    "\n",
    "\n",
    "if Valor01 > Valor02 and Valor02 > Valor03:\n",
    "    ValorOrdemDecrescente = f\"{Valor01} {Valor02} {Valor03}\"\n",
    "elif Valor01 > Valor02 and Valor02 < Valor03:\n",
    "    ValorOrdemDecrescente = f\"{Valor01} {Valor03} {Valor02}\"\n",
    "elif Valor02 > Valor01 and Valor01 > Valor03:\n",
    "    ValorOrdemDecrescente = f\"{Valor02} {Valor01} {Valor03}\"\n",
    "elif Valor02 > Valor01 and Valor01 < Valor03:\n",
    "    ValorOrdemDecrescente = f\"{Valor02} {Valor03} {Valor01}\"\n",
    "elif Valor03 > Valor01 and Valor01 > Valor02:\n",
    "    ValorOrdemDecrescente = f\"{Valor03} {Valor01} {Valor01}\"\n",
    "else:\n",
    "    ValorOrdemDecrescente = f\"{Valor03} {Valor02} {Valor01}\"\n",
    "\n",
    "\n",
    "\n",
    "print(f\"Os valores em ordem DECRESCENTE são: {ValorOrdemDecrescente}\")\n"
   ]
  }
 ],
 "metadata": {
  "kernelspec": {
   "display_name": "Python 3",
   "language": "python",
   "name": "python3"
  },
  "language_info": {
   "codemirror_mode": {
    "name": "ipython",
    "version": 3
   },
   "file_extension": ".py",
   "mimetype": "text/x-python",
   "name": "python",
   "nbconvert_exporter": "python",
   "pygments_lexer": "ipython3",
   "version": "3.11.0"
  }
 },
 "nbformat": 4,
 "nbformat_minor": 2
}
