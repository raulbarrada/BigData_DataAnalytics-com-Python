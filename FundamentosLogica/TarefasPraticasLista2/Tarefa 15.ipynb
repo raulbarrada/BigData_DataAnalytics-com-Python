{
 "cells": [
  {
   "cell_type": "markdown",
   "metadata": {},
   "source": [
    "#### Tarefa 15 - Faça um programa para a leitura de duas notas parciais de um aluno. O programa deve calcular a média alcançada por aluno e apresentar:\n",
    "\n",
    "-A mensagem \"Aprovado\", se a média alcançada for maior ou igual a sete;\n",
    "\n",
    "-A mensagem \"Reprovado\", se a média for menor do que sete;\n",
    "\n",
    "-A mensagem \"Aprovado com Distinção\", se a média for igual a dez."
   ]
  },
  {
   "cell_type": "code",
   "execution_count": 3,
   "metadata": {},
   "outputs": [
    {
     "name": "stdout",
     "output_type": "stream",
     "text": [
      "Valores inválidos.\n"
     ]
    }
   ],
   "source": [
    "Nota01 = float(input(\"Digite primeira nota: \"))\n",
    "Nota02 = float(input(\"Digite segunda nota: \"))\n",
    "\n",
    "Media = (Nota01 + Nota02) / 2\n",
    "\n",
    "if Media == 10:\n",
    "    print(\"Aprovado com Distinção!\")\n",
    "elif Media >= 7 and Media <= 9.9:\n",
    "    print(f\"Aluno aprovado com nota: {Media}\")\n",
    "elif Media >= 0.0 and Media <= 6.9:\n",
    "    print(f\"Aluno reprovado com nota: {Media}\")\n",
    "else:\n",
    "    print(\"Valores inválidos.\")"
   ]
  }
 ],
 "metadata": {
  "kernelspec": {
   "display_name": "Python 3",
   "language": "python",
   "name": "python3"
  },
  "language_info": {
   "codemirror_mode": {
    "name": "ipython",
    "version": 3
   },
   "file_extension": ".py",
   "mimetype": "text/x-python",
   "name": "python",
   "nbconvert_exporter": "python",
   "pygments_lexer": "ipython3",
   "version": "3.11.0"
  }
 },
 "nbformat": 4,
 "nbformat_minor": 2
}
