{
 "cells": [
  {
   "cell_type": "code",
   "execution_count": 19,
   "metadata": {},
   "outputs": [
    {
     "name": "stdout",
     "output_type": "stream",
     "text": [
      "<class 'str'>\n",
      "<class 'int'>\n",
      "<class 'int'>\n",
      "<class 'float'>\n",
      "<class 'bool'>\n",
      "\n",
      "\n",
      "Olá  Raul Barrada de Oliveira Júnior , bem vindo ao mundo de análise de dados com python!\n",
      "Sua altura é:  1.71 cm.\n",
      "Nascido em:  2000 .\n",
      "Atualmente você tem:  23  anos de idade.\n",
      "E é casado.\n"
     ]
    }
   ],
   "source": [
    "#  TIPOS DE VARIÁVEIS\n",
    "#- String  (str)      = \"Texto\"\n",
    "#- Integer (int)      = 10\n",
    "#- Float   (float)    = 10.5\n",
    "#- Bool    (boolean)  = True ou False\n",
    "\n",
    "NomeCompleto    =  \"Raul Barrada de Oliveira Júnior\"\n",
    "AnoNascimento   =  2000\n",
    "AnoAtual        =  2023\n",
    "Altura          =  1.71\n",
    "Casado          =  True  \n",
    "\n",
    "print (type(NomeCompleto))\n",
    "print (type(AnoNascimento))\n",
    "print (type(AnoAtual))\n",
    "print (type(Altura))\n",
    "print (type(Casado))\n",
    "\n",
    "print()\n",
    "print()\n",
    "\n",
    "print(\"Olá \",NomeCompleto,\", bem vindo ao mundo de análise de dados com python!\")\n",
    "print(\"Sua altura é: \",Altura,\"cm.\")\n",
    "print(\"Nascido em: \",AnoNascimento,\".\")\n",
    "print(\"Atualmente você tem: \",AnoAtual-AnoNascimento,\" anos de idade.\")\n",
    "print(\"E é casado.\")"
   ]
  }
 ],
 "metadata": {
  "kernelspec": {
   "display_name": "Python 3",
   "language": "python",
   "name": "python3"
  },
  "language_info": {
   "codemirror_mode": {
    "name": "ipython",
    "version": 3
   },
   "file_extension": ".py",
   "mimetype": "text/x-python",
   "name": "python",
   "nbconvert_exporter": "python",
   "pygments_lexer": "ipython3",
   "version": "3.11.0"
  },
  "orig_nbformat": 4
 },
 "nbformat": 4,
 "nbformat_minor": 2
}
