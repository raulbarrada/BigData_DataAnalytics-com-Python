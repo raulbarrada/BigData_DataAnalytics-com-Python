{
 "cells": [
  {
   "cell_type": "markdown",
   "metadata": {},
   "source": [
    "#### Tarefa 01 – Crie um programa para receber dois valores e em seguida, exiba o valor da soma."
   ]
  },
  {
   "cell_type": "code",
   "execution_count": 1,
   "metadata": {},
   "outputs": [
    {
     "name": "stdout",
     "output_type": "stream",
     "text": [
      "A soma dos valores é:  4\n"
     ]
    }
   ],
   "source": [
    "#   INSERINDO VALORES NAS VARIÁVEIS\n",
    "Numero01 = 2\n",
    "Numero02 = 2\n",
    "\n",
    "#   REALIZANDO A SOMA DOS VALORES\n",
    "SomaNumeros = Numero01 + Numero02\n",
    "\n",
    "#   EXIBINDO RESULTADO DA SOMA\n",
    "print(\"A soma dos valores é: \", SomaNumeros)"
   ]
  }
 ],
 "metadata": {
  "kernelspec": {
   "display_name": "Python 3",
   "language": "python",
   "name": "python3"
  },
  "language_info": {
   "codemirror_mode": {
    "name": "ipython",
    "version": 3
   },
   "file_extension": ".py",
   "mimetype": "text/x-python",
   "name": "python",
   "nbconvert_exporter": "python",
   "pygments_lexer": "ipython3",
   "version": "3.11.0"
  },
  "orig_nbformat": 4
 },
 "nbformat": 4,
 "nbformat_minor": 2
}
