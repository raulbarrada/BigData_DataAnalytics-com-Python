{
 "cells": [
  {
   "cell_type": "markdown",
   "metadata": {},
   "source": [
    "#### Tarefa 18 - Faça um Programa que pergunte quanto você ganha por hora e o número de horas trabalhadas no mês. Calcule e mostre o total do seu salário no referido mês, sabendo-se que são descontados 11% para o Imposto de Renda, 8% para o INSS e 5% para o sindicato, faça um programa que nos dê:\n",
    "a) salário bruto.\n",
    "\n",
    "b) quanto pagou ao INSS.\n",
    "\n",
    "c) quanto pagou ao sindicato.\n",
    "\n",
    "d) o salário líquido.\n",
    "\n",
    "e) calcule os descontos e o salário líquido, conforme a tabela abaixo:\n",
    "\n",
    "    + Salário Bruto : R$\n",
    "    - IR (11%) : R$\n",
    "    - INSS (8%) : R$\n",
    "    - Sindicato ( 5%) : R$\n",
    "    = Salário Liquido : R$"
   ]
  },
  {
   "cell_type": "code",
   "execution_count": 5,
   "metadata": {},
   "outputs": [
    {
     "name": "stdout",
     "output_type": "stream",
     "text": [
      "################ CALCULADORA DE SALÁRIO MENSAL ################\n",
      "################ O valor das horas trabalhadas é: R$2.0.\n",
      "################ A quantidade de horas trabalhadas é: 50 horas.\n",
      "################ O salário bruto é: R$100.0.\n",
      "################ O total de desconto do salário bruto: R$23.0.\n",
      "################ O salário líquido é: R$77.0.\n"
     ]
    }
   ],
   "source": [
    "ImpostoRenda    = 0.11\n",
    "Inss            = 0.08\n",
    "Sindicato       = 0.05\n",
    "\n",
    "TotalDescontos  = 0.23\n",
    "\n",
    "print(f\"################ CALCULADORA DE SALÁRIO MENSAL ################\")\n",
    "ValorHorasTrabalhadas = float(input(\"Digite o valor de horas trabalhadas: \"))\n",
    "HorasTrabalhadas      = int(input(\"Digite a quatidade de horas trabalhadas: \"))\n",
    "\n",
    "SalarioBruto          = ValorHorasTrabalhadas * HorasTrabalhadas\n",
    "\n",
    "TotalDescontosEmReal  = (SalarioBruto * TotalDescontos)\n",
    "\n",
    "SalarioLiquido        = SalarioBruto - (SalarioBruto * TotalDescontos)\n",
    "\n",
    "print(f\"################ O valor das horas trabalhadas é: R${ValorHorasTrabalhadas}.\")\n",
    "print(f\"################ A quantidade de horas trabalhadas é: {HorasTrabalhadas} hora(s).\")\n",
    "print(f\"################ O salário bruto é: R${SalarioBruto}.\")\n",
    "print(f\"################ O total de desconto do salário bruto será: R${TotalDescontosEmReal}.\")\n",
    "print(f\"################ O salário líquido é: R${SalarioLiquido}.\")\n",
    "\n",
    "\n",
    "\n"
   ]
  }
 ],
 "metadata": {
  "kernelspec": {
   "display_name": "Python 3",
   "language": "python",
   "name": "python3"
  },
  "language_info": {
   "codemirror_mode": {
    "name": "ipython",
    "version": 3
   },
   "file_extension": ".py",
   "mimetype": "text/x-python",
   "name": "python",
   "nbconvert_exporter": "python",
   "pygments_lexer": "ipython3",
   "version": "3.11.0"
  },
  "orig_nbformat": 4
 },
 "nbformat": 4,
 "nbformat_minor": 2
}
