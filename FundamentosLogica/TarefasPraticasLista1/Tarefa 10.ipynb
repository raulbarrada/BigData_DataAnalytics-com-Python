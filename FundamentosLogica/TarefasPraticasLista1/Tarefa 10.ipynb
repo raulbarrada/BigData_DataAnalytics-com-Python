{
 "cells": [
  {
   "cell_type": "markdown",
   "metadata": {},
   "source": [
    "#### Tarefa 10 - Faça um Programa que converta metros para centímetros."
   ]
  },
  {
   "cell_type": "code",
   "execution_count": 6,
   "metadata": {},
   "outputs": [
    {
     "name": "stdout",
     "output_type": "stream",
     "text": [
      "O valor de 2 metros em centimetros é 200 centímetros.\n",
      "O valor de 2 metros em centimetros é 200 centímetros.\n"
     ]
    }
   ],
   "source": [
    "Metros = 2\n",
    "\n",
    "Centimetros = Metros*100\n",
    "\n",
    "print(\"O valor de\",Metros,\"metros em centimetros é\", Centimetros,\"centímetros.\")\n",
    "\n",
    "print(f\"O valor de {Metros} metros em centimetros é {Centimetros} centímetros.\") #Forma de apresentar valores das variáveis sem usar concatenação(,)\n"
   ]
  }
 ],
 "metadata": {
  "kernelspec": {
   "display_name": "Python 3",
   "language": "python",
   "name": "python3"
  },
  "language_info": {
   "codemirror_mode": {
    "name": "ipython",
    "version": 3
   },
   "file_extension": ".py",
   "mimetype": "text/x-python",
   "name": "python",
   "nbconvert_exporter": "python",
   "pygments_lexer": "ipython3",
   "version": "3.11.0"
  },
  "orig_nbformat": 4
 },
 "nbformat": 4,
 "nbformat_minor": 2
}
