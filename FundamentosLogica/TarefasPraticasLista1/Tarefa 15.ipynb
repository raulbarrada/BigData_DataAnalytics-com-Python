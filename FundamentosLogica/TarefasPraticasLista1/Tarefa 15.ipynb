{
 "cells": [
  {
   "cell_type": "markdown",
   "metadata": {},
   "source": [
    "#### Tarefa 15 - Faça um Programa que peça a temperatura em graus Celsius, transforme e mostre em graus Fahrenheit."
   ]
  },
  {
   "cell_type": "code",
   "execution_count": 3,
   "metadata": {},
   "outputs": [
    {
     "name": "stdout",
     "output_type": "stream",
     "text": [
      "A temperatura 1.0°F equivale a temperatura de 33.8°C.\n"
     ]
    }
   ],
   "source": [
    "TemperaturaCelsius = float(input(\"Digite o valor da temperatura em Celsius: \"))\n",
    "\n",
    "TemperaturaFahrenheit = (TemperaturaCelsius * 1.8) + 32\n",
    "\n",
    "print(f\"A temperatura {TemperaturaCelsius}°F equivale a temperatura de {TemperaturaFahrenheit}°C.\")\n",
    "\n"
   ]
  }
 ],
 "metadata": {
  "kernelspec": {
   "display_name": "Python 3",
   "language": "python",
   "name": "python3"
  },
  "language_info": {
   "codemirror_mode": {
    "name": "ipython",
    "version": 3
   },
   "file_extension": ".py",
   "mimetype": "text/x-python",
   "name": "python",
   "nbconvert_exporter": "python",
   "pygments_lexer": "ipython3",
   "version": "3.11.0"
  },
  "orig_nbformat": 4
 },
 "nbformat": 4,
 "nbformat_minor": 2
}
