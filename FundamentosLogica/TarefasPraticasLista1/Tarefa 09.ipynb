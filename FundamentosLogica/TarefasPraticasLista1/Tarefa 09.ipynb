{
 "cells": [
  {
   "cell_type": "markdown",
   "metadata": {},
   "source": [
    "##### Tarefa 09 - Atribua os seguintes valores às variáveis, um a um:\n",
    "a. 347\n",
    "\n",
    "b. 2.71\n",
    "\n",
    "c. “347”\n",
    "\n",
    "d. 2+3j\n",
    "\n",
    "Responda as questões a seguir:\n",
    "\n",
    "1) Quais são os tipos das variáveis acima?\n",
    "2) Faça uma atribuição múltipla das variáveis do exercício 2."
   ]
  },
  {
   "cell_type": "code",
   "execution_count": 1,
   "metadata": {},
   "outputs": [
    {
     "name": "stdout",
     "output_type": "stream",
     "text": [
      "O tipo da variável é:  <class 'int'> .\n",
      "O tipo da variável é:  <class 'float'> .\n",
      "O tipo da variável é:  <class 'str'> .\n",
      "O tipo da variável é:  <class 'complex'> .\n"
     ]
    }
   ],
   "source": [
    "a = 347\n",
    "b = 2.71\n",
    "c = \"347\"\n",
    "d = 2+3j\n",
    "\n",
    "\n",
    "print(\"O tipo da variável A é: \",type(b),\".\")\n",
    "print(\"O tipo da variável B é: \",type(a),\".\")\n",
    "print(\"O tipo da variável C é: \",type(c),\".\")\n",
    "print(\"O tipo da variável D é: \",type(d),\".\")\n"
   ]
  }
 ],
 "metadata": {
  "kernelspec": {
   "display_name": "Python 3",
   "language": "python",
   "name": "python3"
  },
  "language_info": {
   "codemirror_mode": {
    "name": "ipython",
    "version": 3
   },
   "file_extension": ".py",
   "mimetype": "text/x-python",
   "name": "python",
   "nbconvert_exporter": "python",
   "pygments_lexer": "ipython3",
   "version": "3.11.0"
  },
  "orig_nbformat": 4
 },
 "nbformat": 4,
 "nbformat_minor": 2
}
